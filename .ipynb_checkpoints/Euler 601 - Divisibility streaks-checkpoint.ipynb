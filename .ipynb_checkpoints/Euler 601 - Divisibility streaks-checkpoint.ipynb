{
 "cells": [
  {
   "cell_type": "markdown",
   "metadata": {
    "deletable": true,
    "editable": true
   },
   "source": [
    "## Divisibility streaks\n",
    "\n",
    "**Problem 601**\n",
    "\n",
    "For every positive number $n$ we define the function streak($n$)=$k$ as the smallest positive integer $k$ such that $n+k$ is not divisible by $k+1$.\n",
    "E.g:\n",
    "13 is divisible by 1 \n",
    "14 is divisible by 2 \n",
    "15 is divisible by 3 \n",
    "16 is divisible by 4 \n",
    "17 is NOT divisible by 5 \n",
    "So streak(13)=4.\n",
    "Similarly:\n",
    "120 is divisible by 1 \n",
    "121 is NOT divisible by 2 \n",
    "So streak(120)=1.\n",
    "\n",
    "Define $P(s,N)$ to be the number of integers $n$, $1<n<N$, for which streak($n$)=$s$.\n",
    "So $P(3,14)=1$ and $P(6,10^6)=14286$.\n",
    "\n",
    "Find the sum, as $i$ ranges from 1 to 31, of $P(i,4^i)$."
   ]
  },
  {
   "cell_type": "code",
   "execution_count": 2,
   "metadata": {
    "collapsed": false,
    "deletable": true,
    "editable": true
   },
   "outputs": [],
   "source": [
    "def streak(n):\n",
    "    k=1\n",
    "    while True:\n",
    "        if ((n+k)%(k+1)!=0):\n",
    "            return k\n",
    "        else:\n",
    "            k+=1\n",
    "        "
   ]
  },
  {
   "cell_type": "code",
   "execution_count": 9,
   "metadata": {
    "collapsed": true,
    "deletable": true,
    "editable": true
   },
   "outputs": [],
   "source": []
  },
  {
   "cell_type": "code",
   "execution_count": 10,
   "metadata": {
    "collapsed": false,
    "deletable": true,
    "editable": true
   },
   "outputs": [],
   "source": [
    "streak_file = open(\"steaks.txt\", \"w\")\n",
    "for n in range(3, 10000, 2):\n",
    "    streak_file.write(\"\\n streak(\" + str(n) + \") = \" + str(streak(n)))\n",
    "streak_file.close()"
   ]
  },
  {
   "cell_type": "code",
   "execution_count": 11,
   "metadata": {
    "collapsed": true,
    "deletable": true,
    "editable": true
   },
   "outputs": [],
   "source": []
  },
  {
   "cell_type": "code",
   "execution_count": 12,
   "metadata": {
    "collapsed": false,
    "deletable": true,
    "editable": true
   },
   "outputs": [],
   "source": [
    "def P(s, N):\n",
    "    \n",
    "    r=0\n",
    "    if s==1:\n",
    "        for m in range(2, N):\n",
    "\n",
    "            if streak(m)==s:\n",
    "                r+=1\n",
    "\n",
    "        return(r)\n",
    "    else:\n",
    "        for m in range(3, N, 2):\n",
    "\n",
    "            if streak(m)==s:\n",
    "                r+=1\n",
    "\n",
    "        return(r)"
   ]
  },
  {
   "cell_type": "code",
   "execution_count": 13,
   "metadata": {
    "collapsed": false,
    "deletable": true,
    "editable": true
   },
   "outputs": [
    {
     "data": {
      "text/plain": [
       "1"
      ]
     },
     "execution_count": 13,
     "metadata": {},
     "output_type": "execute_result"
    }
   ],
   "source": [
    "P(3, 14)"
   ]
  },
  {
   "cell_type": "code",
   "execution_count": 14,
   "metadata": {
    "collapsed": false,
    "deletable": true,
    "editable": true
   },
   "outputs": [
    {
     "data": {
      "text/plain": [
       "14286"
      ]
     },
     "execution_count": 14,
     "metadata": {},
     "output_type": "execute_result"
    }
   ],
   "source": [
    "P(6, 10**6)"
   ]
  },
  {
   "cell_type": "code",
   "execution_count": 17,
   "metadata": {
    "collapsed": false,
    "deletable": true,
    "editable": true
   },
   "outputs": [
    {
     "name": "stdout",
     "output_type": "stream",
     "text": [
      "i = 1 :     1\n",
      "i = 2 :     5\n",
      "i = 3 :     5\n",
      "i = 4 :     17\n",
      "i = 5 :     0\n",
      "i = 6 :     59\n"
     ]
    }
   ],
   "source": [
    "# sum = 0\n",
    "for i in range(1,7):\n",
    "    new = P(i, 4**i)\n",
    "    sum+= new\n",
    "    print(\"i = \" + str(i) + \" :     \"+ str(new))\n",
    "    \n",
    "# print(sum)"
   ]
  },
  {
   "cell_type": "markdown",
   "metadata": {
    "deletable": true,
    "editable": true
   },
   "source": [
    "d = {p:streak(p) for p in range(2,4)}\n",
    "print(d)"
   ]
  },
  {
   "cell_type": "code",
   "execution_count": null,
   "metadata": {
    "collapsed": false,
    "deletable": true,
    "editable": true
   },
   "outputs": [],
   "source": []
  },
  {
   "cell_type": "code",
   "execution_count": 2,
   "metadata": {
    "collapsed": true,
    "deletable": true,
    "editable": true
   },
   "outputs": [],
   "source": [
    "\n",
    "def streak_poss(n,k): \n",
    "    if(k==1):\n",
    "        return True\n",
    "    for i in range(1,k):\n",
    "#         print(i)\n",
    "        if ((n+i)%(i+1)!=0):\n",
    "#             print(False)\n",
    "            return False\n",
    "        elif (i==(k-1) and (n+i)%(i+1)==0):\n",
    "#             print(True)\n",
    "            return True\n",
    "        \n",
    "        \n",
    "    "
   ]
  },
  {
   "cell_type": "code",
   "execution_count": 3,
   "metadata": {
    "collapsed": false,
    "deletable": true,
    "editable": true
   },
   "outputs": [
    {
     "data": {
      "text/plain": [
       "True"
      ]
     },
     "execution_count": 3,
     "metadata": {},
     "output_type": "execute_result"
    }
   ],
   "source": [
    "streak_poss(13,3)"
   ]
  },
  {
   "cell_type": "code",
   "execution_count": 4,
   "metadata": {
    "collapsed": true,
    "deletable": true,
    "editable": true
   },
   "outputs": [],
   "source": [
    "import time"
   ]
  },
  {
   "cell_type": "code",
   "execution_count": null,
   "metadata": {
    "collapsed": true,
    "deletable": true,
    "editable": true
   },
   "outputs": [],
   "source": []
  },
  {
   "cell_type": "code",
   "execution_count": null,
   "metadata": {
    "collapsed": true
   },
   "outputs": [],
   "source": []
  },
  {
   "cell_type": "code",
   "execution_count": 43,
   "metadata": {
    "collapsed": false
   },
   "outputs": [
    {
     "name": "stdout",
     "output_type": "stream",
     "text": [
      "s = 1\n",
      "\n",
      " For s= 1  value is  1\n",
      "\n",
      " s = 2\n",
      "0.00965309143066\n",
      "\n",
      " For s= 2  value is  5\n",
      "\n",
      " s = 3\n",
      "0.000821828842163\n",
      "\n",
      " For s= 3  value is  5\n",
      "\n",
      " s = 4\n",
      "0.00054407119751\n",
      "\n",
      " For s= 4  value is  17\n",
      "\n",
      " s = 5\n",
      "0.000878095626831\n",
      "\n",
      " For s= 5  value is  0\n",
      "\n",
      " s = 6\n",
      "0.000634908676147\n",
      "\n",
      " For s= 6  value is  59\n",
      "\n",
      " s = 7\n",
      "0.00350904464722\n",
      "\n",
      " For s= 7  value is  20\n",
      "\n",
      " s = 8\n",
      "0.00115704536438\n",
      "\n",
      " For s= 8  value is  52\n",
      "\n",
      " s = 9\n",
      "0.00117492675781\n",
      "\n",
      " For s= 9  value is  0\n",
      "\n",
      " s = 10\n",
      "0.00130796432495\n",
      "\n",
      " For s= 10  value is  379\n",
      "\n",
      " s = 11\n",
      "0.00325608253479\n",
      "\n",
      " For s= 11  value is  0\n",
      "\n",
      " s = 12\n",
      "0.00301480293274\n",
      "\n",
      " For s= 12  value is  559\n",
      "\n",
      " s = 13\n",
      "0.00134420394897\n",
      "\n",
      " For s= 13  value is  0\n",
      "\n",
      " s = 14\n",
      "0.00135493278503\n",
      "\n",
      " For s= 14  value is  0\n",
      "\n",
      " s = 15\n",
      "0.00165486335754\n",
      "\n",
      " For s= 15  value is  1490\n",
      "\n",
      " s = 16\n",
      "0.00469708442688\n",
      "\n",
      " For s= 16  value is  5609\n",
      "\n",
      " s = 17\n",
      "0.00760102272034\n",
      "\n",
      " For s= 17  value is  0\n",
      "\n",
      " s = 18\n",
      "0.00524997711182\n",
      "\n",
      " For s= 18  value is  5313\n",
      "\n",
      " s = 19\n",
      "0.00501799583435\n",
      "\n",
      " For s= 19  value is  0\n",
      "\n",
      " s = 20\n",
      "0.00391411781311\n",
      "\n",
      " For s= 20  value is  0\n",
      "\n",
      " s = 21\n",
      "0.00731801986694\n",
      "\n",
      " For s= 21  value is  0\n",
      "\n",
      " s = 22\n",
      "0.0285708904266\n",
      "\n",
      " For s= 22  value is  72285\n",
      "\n",
      " s = 23\n",
      "0.0646770000458\n",
      "\n",
      " For s= 23  value is  0\n",
      "\n",
      " s = 24\n",
      "0.0404360294342\n",
      "\n",
      " For s= 24  value is  42056\n",
      "\n",
      " s = 25\n",
      "0.0699238777161\n",
      "\n",
      " For s= 25  value is  0\n",
      "\n",
      " s = 26\n",
      "0.0885021686554\n",
      "\n",
      " For s= 26  value is  112150\n",
      "\n",
      " s = 27\n",
      "0.189817905426\n",
      "\n",
      " For s= 27  value is  0\n",
      "\n",
      " s = 28\n",
      "0.308243989944\n",
      "\n",
      " For s= 28  value is  866266\n",
      "\n",
      " s = 29\n",
      "0.733690977097\n",
      "\n",
      " For s= 29  value is  0\n",
      "\n",
      " s = 30\n",
      "0.502840995789\n",
      "\n",
      " For s= 30  value is  479041\n",
      "\n",
      " s = 31\n",
      "0.481883049011\n",
      "\n",
      " For s= 31  value is  31936\n",
      "2.75405502319\n",
      "\n",
      " sum = 1617243\n"
     ]
    }
   ],
   "source": [
    "sum = 0\n",
    "\n",
    "l = []\n",
    "starttime = time.time()\n",
    "oldtime = starttime\n",
    "\n",
    "s=1\n",
    "print(\"s = \" + str(s))\n",
    "\n",
    "value = 0\n",
    "for p in range(2,4):\n",
    "    \n",
    "    if (p+1)%(s+1)==0:\n",
    "        l.append((p,s+1)) #possiblity in next round\n",
    "        \n",
    "    else:\n",
    "        value+=1 # this is the streak add to total\n",
    "\n",
    "new_l = l\n",
    "# print(new_l)        \n",
    "print(\"\\n For s= \" +str(s) + \"  value is  \"+ str(value))\n",
    "    \n",
    "sum+=value\n",
    "\n",
    "\n",
    "\n",
    "# newtime = time.time()\n",
    "# print(newtime - oldtime)\n",
    "# oldtime = newtime\n",
    "\n",
    "interval = 2\n",
    "\n",
    "for s in range(2,32):\n",
    "    print(\"\\n s = \" + str(s))\n",
    "\n",
    "    newtime = time.time()\n",
    "    print(newtime - oldtime)\n",
    "    oldtime = newtime\n",
    "    \n",
    "    value = 0\n",
    "\n",
    "    \n",
    "    l=new_l\n",
    "    \n",
    "    last = l[len(l)-1]\n",
    "#     print(\"last =  \"+str(last))\n",
    "    new_l = []\n",
    "    \n",
    "    \n",
    "    for r in l:\n",
    "        p=r[0]\n",
    "        if (p+s)%(s+1)==0:\n",
    "            new_l.append((p,s+1))\n",
    "\n",
    "        else:\n",
    "            value+=1\n",
    "\n",
    "#     print(\"done with list\")\n",
    "#     print(new_l)\n",
    "    \n",
    "#     newtime = time.time()\n",
    "#     print(newtime - oldtime)\n",
    "#     oldtime = newtime\n",
    "\n",
    "    \n",
    "    count = []\n",
    "    for p in range(last[0]+interval,4**s, interval):\n",
    "        \n",
    "#         print(last[0],interval)\n",
    "        if (len(count)==2):\n",
    "            break\n",
    "        if (streak_poss(p,s)):\n",
    "            count.append(p)\n",
    "#             print(count)\n",
    "            \n",
    "#     print (count[0]+interval, interval)\n",
    "    \n",
    "#     print(count)\n",
    "#     newtime = time.time()\n",
    "#     print(newtime - oldtime)\n",
    "#     oldtime = newtime\n",
    "    \n",
    "    \n",
    "#     for p in range(count[0]+interval,4**s, interval):\n",
    "#         if (streak_poss(p,s)):\n",
    "#             count.append(p)\n",
    "#             print(count)\n",
    "#             break\n",
    "\n",
    "#     print(count)        \n",
    "    \n",
    "#     newtime = time.time()\n",
    "#     print(newtime - oldtime)\n",
    "#     oldtime = newtime\n",
    "    \n",
    "    interval = count[1]-count[0]\n",
    "#     print(\"interval = \" + str(interval))\n",
    "    \n",
    "    for p in range(count[0],4**s, interval):\n",
    "  \n",
    "            if (p+s)%(s+1)==0:\n",
    "                new_l.append((p,s+1))\n",
    "#                 new_d[p]=s+1\n",
    "\n",
    "\n",
    "            else:\n",
    "                value+=1\n",
    "#     print(new_l)\n",
    "    print(\"\\n For s= \" +str(s) + \"  value is  \"+ str(value))\n",
    "    sum+=value\n",
    "    \n",
    "#     newtime = time.time()\n",
    "#     print(newtime - oldtime)\n",
    "\n",
    "#     print(newtime -oldtime)\n",
    "    \n",
    "newtime = time.time()\n",
    "print(newtime -starttime)    \n",
    "print(\"\\n sum = \" + str(sum))\n",
    "\n",
    "\n"
   ]
  },
  {
   "cell_type": "code",
   "execution_count": null,
   "metadata": {
    "collapsed": true
   },
   "outputs": [],
   "source": []
  }
 ],
 "metadata": {
  "kernelspec": {
   "display_name": "Python 2",
   "language": "python",
   "name": "python2"
  },
  "language_info": {
   "codemirror_mode": {
    "name": "ipython",
    "version": 2
   },
   "file_extension": ".py",
   "mimetype": "text/x-python",
   "name": "python",
   "nbconvert_exporter": "python",
   "pygments_lexer": "ipython2",
   "version": "2.7.12"
  }
 },
 "nbformat": 4,
 "nbformat_minor": 2
}
