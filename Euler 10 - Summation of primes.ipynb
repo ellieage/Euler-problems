{
 "cells": [
  {
   "cell_type": "markdown",
   "metadata": {
    "deletable": true,
    "editable": true
   },
   "source": [
    "## Summation of primes\n",
    "**Problem 10 **\n",
    "\n",
    "The sum of the primes below 10 is 2 + 3 + 5 + 7 = 17.\n",
    "\n",
    "Find the sum of all the primes below two million."
   ]
  },
  {
   "cell_type": "code",
   "execution_count": 2,
   "metadata": {
    "collapsed": true,
    "deletable": true,
    "editable": true
   },
   "outputs": [],
   "source": [
    "def is_prime(p):\n",
    "    for i in range(3,int(p/2)+1):\n",
    "\n",
    "        if (p%i==0):\n",
    "            return False\n",
    "            break\n",
    "        \n",
    "    return True   "
   ]
  },
  {
   "cell_type": "code",
   "execution_count": 4,
   "metadata": {
    "collapsed": false,
    "deletable": true,
    "editable": true
   },
   "outputs": [
    {
     "name": "stdout",
     "output_type": "stream",
     "text": [
      "277050\n"
     ]
    }
   ],
   "source": [
    "sum = 2\n",
    "for p in range(3,2000,2):\n",
    "#     print(p)\n",
    "    if(is_prime(p)):\n",
    "#         print(p)\n",
    "        sum+=p\n",
    "print(sum)"
   ]
  },
  {
   "cell_type": "code",
   "execution_count": 13,
   "metadata": {
    "collapsed": false,
    "deletable": true,
    "editable": true
   },
   "outputs": [
    {
     "name": "stdout",
     "output_type": "stream",
     "text": [
      "148934\n",
      "142913828922\n"
     ]
    }
   ],
   "source": [
    "primes = [2, 3, 5, 7, 11, 13, 17, 19, 23]\n",
    "n=2000000\n",
    "p=primes[-1]\n",
    "# pr=0\n",
    "# print(p)\n",
    "while primes[-1]<n:\n",
    "    p+=2\n",
    "#     print(\"\\n p = \" + str(p))\n",
    "    flag=0\n",
    "    for prime in primes:\n",
    "#         print(\"prime = \" + str(prime))\n",
    "        if(p%prime==0):\n",
    "            flag = 1\n",
    "            \n",
    "#             print(p, prime)\n",
    "#             print(str(p) +  \" is not prime\")\n",
    "            \n",
    "            break\n",
    "#     print(flag)\n",
    "    if (flag==0):\n",
    "        primes.append(p)\n",
    "#         pr+=1\n",
    "#         if (pr%50==0):\n",
    "#             print(p)\n",
    "\n",
    "# print(primes) \n",
    "print(len(primes))    \n",
    "sum = 0\n",
    "for i in range(0,len(primes)-1):\n",
    "    sum+=primes[i]\n",
    "print(sum)"
   ]
  },
  {
   "cell_type": "code",
   "execution_count": null,
   "metadata": {
    "collapsed": true,
    "deletable": true,
    "editable": true
   },
   "outputs": [],
   "source": [
    "17985\n",
    "1709600813"
   ]
  }
 ],
 "metadata": {
  "kernelspec": {
   "display_name": "Python 2",
   "language": "python",
   "name": "python2"
  },
  "language_info": {
   "codemirror_mode": {
    "name": "ipython",
    "version": 2
   },
   "file_extension": ".py",
   "mimetype": "text/x-python",
   "name": "python",
   "nbconvert_exporter": "python",
   "pygments_lexer": "ipython2",
   "version": "2.7.12"
  }
 },
 "nbformat": 4,
 "nbformat_minor": 2
}
