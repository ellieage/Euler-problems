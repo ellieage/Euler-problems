{
 "cells": [
  {
   "cell_type": "markdown",
   "metadata": {},
   "source": [
    "## Number letter counts\n",
    "**Problem 17**\n",
    "\n",
    "If the numbers 1 to 5 are written out in words: one, two, three, four, five, then there are 3 + 3 + 5 + 4 + 4 = 19 letters used in total.\n",
    "\n",
    "If all the numbers from 1 to 1000 (one thousand) inclusive were written out in words, how many letters would be used?\n",
    "\n",
    "\n",
    "NOTE: Do not count spaces or hyphens. For example, 342 (three hundred and forty-two) contains 23 letters and 115 (one hundred and fifteen) contains 20 letters. The use of \"and\" when writing out numbers is in compliance with British usage."
   ]
  },
  {
   "cell_type": "code",
   "execution_count": 8,
   "metadata": {
    "collapsed": true
   },
   "outputs": [],
   "source": [
    "d= {1:3,2:3,3:5, 4:4,5:4,6:3,7:5, 8:5,9:4,10:3,\n",
    "    11:6,12:6,13:8,14:8,15:7,16:7,17:9,18:8,19:8,\n",
    "    20:6, 30:6, 40:5, 50:5, 60: 5, 70:7, 80:6, 90:6\n",
    "   }"
   ]
  },
  {
   "cell_type": "code",
   "execution_count": 9,
   "metadata": {
    "collapsed": false
   },
   "outputs": [
    {
     "name": "stdout",
     "output_type": "stream",
     "text": [
      "36\n"
     ]
    }
   ],
   "source": [
    "sum9=0\n",
    "for i in range(1,10):\n",
    "    sum9+=d[i]\n",
    "print(sum9)"
   ]
  },
  {
   "cell_type": "code",
   "execution_count": 18,
   "metadata": {
    "collapsed": false
   },
   "outputs": [
    {
     "name": "stdout",
     "output_type": "stream",
     "text": [
      "(1, 3, 3)\n",
      "(2, 3, 6)\n",
      "(3, 5, 11)\n",
      "(4, 4, 15)\n",
      "(5, 4, 19)\n",
      "(6, 3, 22)\n",
      "(7, 5, 27)\n",
      "(8, 5, 32)\n",
      "(9, 4, 36)\n",
      "(10, 3, 39)\n",
      "(11, 6, 45)\n",
      "(12, 6, 51)\n",
      "(13, 8, 59)\n",
      "(14, 8, 67)\n",
      "(15, 7, 74)\n",
      "(16, 7, 81)\n",
      "(17, 9, 90)\n",
      "(18, 8, 98)\n",
      "(19, 8, 106)\n",
      "106\n"
     ]
    }
   ],
   "source": [
    "sum19=0\n",
    "for i in range(1,20):\n",
    "#     print(i,d[i],sum19)\n",
    "    sum19+=d[i]\n",
    "    print(i,d[i],sum19)    \n",
    "print(sum19)"
   ]
  },
  {
   "cell_type": "code",
   "execution_count": 21,
   "metadata": {
    "collapsed": false
   },
   "outputs": [
    {
     "name": "stdout",
     "output_type": "stream",
     "text": [
      "(20, 6, 202)\n",
      "(30, 6, 298)\n",
      "(40, 5, 384)\n",
      "(50, 5, 470)\n",
      "(60, 5, 556)\n",
      "(70, 7, 662)\n",
      "(80, 6, 758)\n",
      "(90, 6, 854)\n",
      "854\n"
     ]
    }
   ],
   "source": [
    "sum99=sum19\n",
    "for i in range(20,100,10):\n",
    "\n",
    "    sum99+=d[i]*10+sum9\n",
    "    print(i,d[i],sum99)    \n",
    "print(sum99)"
   ]
  },
  {
   "cell_type": "code",
   "execution_count": 31,
   "metadata": {
    "collapsed": true
   },
   "outputs": [],
   "source": [
    "sum999 = sum99\n",
    "#(one hundred) + (one hundred and)*99+sum99 \n",
    "for i in range(1,10):\n",
    "    sum999+=(d[i]+7)+(d[i]+10)*99+sum99"
   ]
  },
  {
   "cell_type": "code",
   "execution_count": 32,
   "metadata": {
    "collapsed": false
   },
   "outputs": [
    {
     "data": {
      "text/plain": [
       "21124"
      ]
     },
     "execution_count": 32,
     "metadata": {},
     "output_type": "execute_result"
    }
   ],
   "source": [
    "# + one thousand\n",
    "sum999+11"
   ]
  },
  {
   "cell_type": "code",
   "execution_count": null,
   "metadata": {
    "collapsed": true
   },
   "outputs": [],
   "source": []
  }
 ],
 "metadata": {
  "kernelspec": {
   "display_name": "Python 2",
   "language": "python",
   "name": "python2"
  },
  "language_info": {
   "codemirror_mode": {
    "name": "ipython",
    "version": 2
   },
   "file_extension": ".py",
   "mimetype": "text/x-python",
   "name": "python",
   "nbconvert_exporter": "python",
   "pygments_lexer": "ipython2",
   "version": "2.7.12"
  }
 },
 "nbformat": 4,
 "nbformat_minor": 2
}
