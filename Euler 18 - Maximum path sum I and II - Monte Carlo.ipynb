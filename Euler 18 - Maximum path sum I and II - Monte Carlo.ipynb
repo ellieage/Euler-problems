{
 "cells": [
  {
   "cell_type": "markdown",
   "metadata": {
    "deletable": true,
    "editable": true
   },
   "source": [
    "## Maximum path sum I & II\n",
    "**Problem 18**\n",
    "\n",
    "By starting at the top of the triangle below and moving to adjacent numbers on the row below, the maximum total from top to bottom is 23.\n",
    "\n",
    "3\n",
    "7 4\n",
    "2 4 6\n",
    "8 5 9 3\n",
    "\n",
    "That is, 3 + 7 + 4 + 9 = 23.\n",
    "\n",
    "Find the maximum total from top to bottom of the triangle below:\n",
    "\n",
    "75\n",
    "95 64\n",
    "17 47 82\n",
    "18 35 87 10\n",
    "20 04 82 47 65\n",
    "19 01 23 75 03 34\n",
    "88 02 77 73 07 63 67\n",
    "99 65 04 28 06 16 70 92\n",
    "41 41 26 56 83 40 80 70 33\n",
    "41 48 72 33 47 32 37 16 94 29\n",
    "53 71 44 65 25 43 91 52 97 51 14\n",
    "70 11 33 28 77 73 17 78 39 68 17 57\n",
    "91 71 52 38 17 14 91 43 58 50 27 29 48\n",
    "63 66 04 68 89 53 67 30 73 16 69 87 40 31\n",
    "04 62 98 27 23 09 70 98 73 93 38 53 60 04 23\n",
    "\n",
    "NOTE: As there are only 16384 routes, it is possible to solve this problem by trying every route. However, Problem 67, is the same challenge with a triangle containing one-hundred rows; it cannot be solved by brute force, and requires a clever method! ;o)"
   ]
  },
  {
   "cell_type": "markdown",
   "metadata": {
    "deletable": true,
    "editable": true
   },
   "source": [
    "We're going to try something like a Monte Carlo Method:"
   ]
  },
  {
   "cell_type": "code",
   "execution_count": 201,
   "metadata": {
    "collapsed": true,
    "deletable": true,
    "editable": true
   },
   "outputs": [],
   "source": [
    "import random"
   ]
  },
  {
   "cell_type": "raw",
   "metadata": {
    "collapsed": false,
    "deletable": true,
    "editable": true
   },
   "source": [
    "triangle1 = \"\"\"3\n",
    "7 4\n",
    "2 4 6\n",
    "8 5 9 3\"\"\".split(\"\\n\")\n",
    "print(triangle1)"
   ]
  },
  {
   "cell_type": "code",
   "execution_count": 203,
   "metadata": {
    "collapsed": false,
    "deletable": true,
    "editable": true
   },
   "outputs": [],
   "source": [
    "def triangle_to_list(triangle):\n",
    "    ll = []\n",
    "    for i in range(0,len(triangle)):\n",
    "        l=triangle[i].split()\n",
    "        ll.append([int(k) for k in l ])\n",
    "    return ll\n",
    "  "
   ]
  },
  {
   "cell_type": "code",
   "execution_count": 204,
   "metadata": {
    "collapsed": false,
    "deletable": true,
    "editable": true
   },
   "outputs": [
    {
     "name": "stdout",
     "output_type": "stream",
     "text": [
      "[[3], [7, 4], [2, 4, 6], [8, 5, 9, 3]]\n"
     ]
    }
   ],
   "source": [
    "my_tri = triangle_to_list(triangle1)\n",
    "print(my_tri)"
   ]
  },
  {
   "cell_type": "markdown",
   "metadata": {
    "deletable": true,
    "editable": true
   },
   "source": [
    "First, we try a brute-force method, checking all possible paths.  This will give us something to test our new method against."
   ]
  },
  {
   "cell_type": "code",
   "execution_count": 205,
   "metadata": {
    "collapsed": false,
    "deletable": true,
    "editable": true
   },
   "outputs": [
    {
     "name": "stdout",
     "output_type": "stream",
     "text": [
      "[[0, 0, 0], [0, 0, 1], [0, 1, 0], [0, 1, 1], [1, 0, 0], [1, 0, 1], [1, 1, 0], [1, 1, 1]]\n"
     ]
    }
   ],
   "source": [
    "# all possible paths\n",
    "\n",
    "import itertools\n",
    "\n",
    "paths = map(''.join, itertools.product(\"01\", repeat=(len(my_tri)-1)))\n",
    "paths = [map(int, x) for x in paths]\n",
    "\n",
    "print(paths)\n"
   ]
  },
  {
   "cell_type": "code",
   "execution_count": 206,
   "metadata": {
    "collapsed": false,
    "deletable": true,
    "editable": true
   },
   "outputs": [
    {
     "name": "stdout",
     "output_type": "stream",
     "text": [
      "final: [[0, 1, 1], 23]\n"
     ]
    }
   ],
   "source": [
    "# max sum for all possible paths\n",
    "\n",
    "max_sum = [0,0]\n",
    "\n",
    "for path in paths:\n",
    "    this_sum = my_tri[0][0]\n",
    "    p=0\n",
    "    for i in range(0,len(my_tri)-1):\n",
    "        p+=path[i]\n",
    "        this_sum+=my_tri[i+1][p]\n",
    "    if (this_sum>max_sum[1]):\n",
    "        max_sum = [path, this_sum]\n",
    "print(\"final: \" + str(max_sum))"
   ]
  },
  {
   "cell_type": "code",
   "execution_count": null,
   "metadata": {
    "collapsed": true,
    "deletable": true,
    "editable": true
   },
   "outputs": [],
   "source": []
  },
  {
   "cell_type": "code",
   "execution_count": 207,
   "metadata": {
    "collapsed": false,
    "deletable": true,
    "editable": true
   },
   "outputs": [
    {
     "name": "stdout",
     "output_type": "stream",
     "text": [
      "[[3], [7, 4], [2, 4, 6], [8, 5, 9, 3]]\n"
     ]
    }
   ],
   "source": [
    "print(my_tri)"
   ]
  },
  {
   "cell_type": "code",
   "execution_count": 208,
   "metadata": {
    "collapsed": false,
    "deletable": true,
    "editable": true
   },
   "outputs": [],
   "source": [
    "def compute_sum(path):\n",
    "    \n",
    "    this_sum = my_tri[0][0]\n",
    "\n",
    "    p=0\n",
    "    for i in range(0,len(my_tri)-1):\n",
    "        p+=path[i]\n",
    "        this_sum+=my_tri[i+1][p]\n",
    "\n",
    "    return(this_sum)"
   ]
  },
  {
   "cell_type": "code",
   "execution_count": 209,
   "metadata": {
    "collapsed": false,
    "deletable": true,
    "editable": true
   },
   "outputs": [
    {
     "data": {
      "text/plain": [
       "23"
      ]
     },
     "execution_count": 209,
     "metadata": {},
     "output_type": "execute_result"
    }
   ],
   "source": [
    "compute_sum([0,1,1])"
   ]
  },
  {
   "cell_type": "code",
   "execution_count": 210,
   "metadata": {
    "collapsed": false,
    "deletable": true,
    "editable": true
   },
   "outputs": [],
   "source": [
    "# random paths\n",
    "\n",
    "def create_random_paths(number):\n",
    "    new_paths = []\n",
    "    for i in range(0,number):\n",
    "        path = []\n",
    "        while len(path)<(len(my_tri)-1):\n",
    "            path.append(random.choice([0,1]) )\n",
    "#         print( path)\n",
    "#         print (len(path))\n",
    "        new_paths.append([path, compute_sum(path)])\n",
    "#         print(paths)\n",
    "    return new_paths"
   ]
  },
  {
   "cell_type": "code",
   "execution_count": 211,
   "metadata": {
    "collapsed": false,
    "deletable": true,
    "editable": true
   },
   "outputs": [
    {
     "name": "stdout",
     "output_type": "stream",
     "text": [
      "[[[0, 1, 1], 23], [[0, 0, 1], 17]]\n"
     ]
    }
   ],
   "source": [
    "paths = create_random_paths(2)\n",
    "print(paths)"
   ]
  },
  {
   "cell_type": "code",
   "execution_count": 212,
   "metadata": {
    "collapsed": false,
    "deletable": true,
    "editable": true
   },
   "outputs": [],
   "source": [
    "def change_path(path):\n",
    "    new_path = list(path) # sets a new place in memory for new_path\n",
    "    spot = random.randrange(0, len(my_tri)-1)\n",
    "    new_path[spot] = ((new_path[spot]+1) % 2)\n",
    "    return (new_path)"
   ]
  },
  {
   "cell_type": "code",
   "execution_count": 213,
   "metadata": {
    "collapsed": false,
    "deletable": true,
    "editable": true
   },
   "outputs": [
    {
     "name": "stdout",
     "output_type": "stream",
     "text": [
      "[0, 1, 0]\n",
      "[[[0, 1, 1], 23], [[0, 0, 1], 17]]\n"
     ]
    }
   ],
   "source": [
    "print(change_path(paths[0][0]))\n",
    "print(paths)"
   ]
  },
  {
   "cell_type": "code",
   "execution_count": 214,
   "metadata": {
    "collapsed": false,
    "deletable": true,
    "editable": true
   },
   "outputs": [
    {
     "data": {
      "text/plain": [
       "<function __main__.change_path>"
      ]
     },
     "execution_count": 214,
     "metadata": {},
     "output_type": "execute_result"
    }
   ],
   "source": [
    "change_path"
   ]
  },
  {
   "cell_type": "code",
   "execution_count": 215,
   "metadata": {
    "collapsed": false,
    "deletable": true,
    "editable": true
   },
   "outputs": [],
   "source": [
    "def decision(probability):\n",
    "    return random.random() < probability"
   ]
  },
  {
   "cell_type": "code",
   "execution_count": 216,
   "metadata": {
    "collapsed": false,
    "deletable": true,
    "editable": true
   },
   "outputs": [
    {
     "name": "stdout",
     "output_type": "stream",
     "text": [
      "True\n",
      "True\n",
      "False\n",
      "True\n",
      "True\n",
      "True\n",
      "False\n",
      "True\n",
      "True\n"
     ]
    }
   ],
   "source": [
    "for i in range(1,10):\n",
    "    print(decision(.70))"
   ]
  },
  {
   "cell_type": "code",
   "execution_count": 217,
   "metadata": {
    "collapsed": false,
    "deletable": true,
    "editable": true
   },
   "outputs": [],
   "source": [
    "def look_for_paths(paths, switchprob, maxvalues):\n",
    "#     print(paths)\n",
    "    for i in range(0,len(paths)):\n",
    "#         print(\"\\n\" + str(paths[i]))\n",
    "        myoldpath = paths[i][0]\n",
    "        myoldsum = paths[i][1]\n",
    "        \n",
    "        mynewpath = change_path(myoldpath)\n",
    "        mynewsum = compute_sum(mynewpath)\n",
    "#         print([mynewpath,mynewsum])\n",
    "        if (mynewsum>myoldsum):\n",
    "#             print(mynewsum,myoldsum,\" \", maxvalues[1])\n",
    "            if (mynewsum>maxvalues[1]):\n",
    "#                 print(\"new max\")\n",
    "                maxvalues = [mynewpath,mynewsum]\n",
    "#                 print(maxvalues)\n",
    "            prob = switchprob\n",
    "        else:\n",
    "            prob = 1.-switchprob\n",
    "#         print(\"probability we switch: \" + str(prob))\n",
    "        if(decision(prob)):\n",
    "            paths[i]=[mynewpath,mynewsum]\n",
    "#             print(\"switched\")\n",
    "#         print(paths)\n",
    "    return([paths,maxvalues])"
   ]
  },
  {
   "cell_type": "code",
   "execution_count": 218,
   "metadata": {
    "collapsed": false,
    "deletable": true,
    "editable": true
   },
   "outputs": [
    {
     "data": {
      "text/plain": [
       "[[[[0, 1, 1], 23], [[0, 0, 0], 20]], [[0, 1, 1], 23]]"
      ]
     },
     "execution_count": 218,
     "metadata": {},
     "output_type": "execute_result"
    }
   ],
   "source": [
    "look_for_paths(paths,.7,paths[0])"
   ]
  },
  {
   "cell_type": "code",
   "execution_count": null,
   "metadata": {
    "collapsed": true,
    "deletable": true,
    "editable": true
   },
   "outputs": [],
   "source": []
  },
  {
   "cell_type": "code",
   "execution_count": 300,
   "metadata": {
    "collapsed": false,
    "deletable": true,
    "editable": true
   },
   "outputs": [],
   "source": [
    "def find_max(num_paths,num_rotations):\n",
    "\n",
    "    paths = create_random_paths(num_paths)\n",
    "\n",
    "    maxvalues = paths[0]\n",
    "    for i in range(1,len(paths)):\n",
    "        if (paths[i][1]>maxvalues[1]):\n",
    "            maxvalues = paths[i]\n",
    "\n",
    "#     print(\"\\n\" +str(paths))\n",
    "    for k in range(1,4):\n",
    "\n",
    "        for j in range(0,num_rotations):\n",
    "            here = look_for_paths(paths,float((5.5+k))/float(10),maxvalues)#0.7,maxvalues)\n",
    "            paths = here[0]\n",
    "            maxvalues = here[1]\n",
    "        #     print(paths)\n",
    "    #     print (\"\\nmaxvalues = \"+ str(maxvalues)+ \"\\n\")\n",
    "    for j in range(0,num_rotations):\n",
    "        look_for_paths(paths,.98,maxvalues)    \n",
    "    # print (maxvalues)\n",
    "#     print (\"\\nmaxvalues = \"+ str(maxvalues)+ \"\\n\")\n",
    "    return(maxvalues)"
   ]
  },
  {
   "cell_type": "code",
   "execution_count": 190,
   "metadata": {
    "collapsed": false,
    "deletable": true,
    "editable": true
   },
   "outputs": [],
   "source": [
    "triangle2 = \"\"\"75\n",
    "95 64\n",
    "17 47 82\n",
    "18 35 87 10\n",
    "20 04 82 47 65\n",
    "19 01 23 75 03 34\n",
    "88 02 77 73 07 63 67\n",
    "99 65 04 28 06 16 70 92\n",
    "41 41 26 56 83 40 80 70 33\n",
    "41 48 72 33 47 32 37 16 94 29\n",
    "53 71 44 65 25 43 91 52 97 51 14\n",
    "70 11 33 28 77 73 17 78 39 68 17 57\n",
    "91 71 52 38 17 14 91 43 58 50 27 29 48\n",
    "63 66 04 68 89 53 67 30 73 16 69 87 40 31\n",
    "04 62 98 27 23 09 70 98 73 93 38 53 60 04 23\"\"\".split(\"\\n\")\n",
    "# print(triangle2)"
   ]
  },
  {
   "cell_type": "raw",
   "metadata": {
    "collapsed": true,
    "deletable": true,
    "editable": true
   },
   "source": [
    "my_tri = triangle_to_list(triangle2)\n",
    "for i in range (1,20):\n",
    "    print(find_max(50,100))"
   ]
  },
  {
   "cell_type": "code",
   "execution_count": null,
   "metadata": {
    "collapsed": true,
    "deletable": true,
    "editable": true
   },
   "outputs": [],
   "source": []
  },
  {
   "cell_type": "code",
   "execution_count": 245,
   "metadata": {
    "collapsed": false,
    "deletable": true,
    "editable": true
   },
   "outputs": [],
   "source": [
    "F = open(\"p067_triangle.txt\",\"r\") \n",
    "triangle3 = F.read().split(\"\\n\")\n",
    "F.close() "
   ]
  },
  {
   "cell_type": "code",
   "execution_count": 268,
   "metadata": {
    "collapsed": false,
    "deletable": true,
    "editable": true
   },
   "outputs": [],
   "source": []
  },
  {
   "cell_type": "code",
   "execution_count": 301,
   "metadata": {
    "collapsed": false,
    "deletable": true,
    "editable": true
   },
   "outputs": [
    {
     "name": "stdout",
     "output_type": "stream",
     "text": [
      "6106\n",
      "\n",
      "6281\n",
      "\n",
      "6296\n",
      "\n",
      "6233\n",
      "6216\n",
      "6203\n",
      "6209\n",
      "6183\n",
      "6174\n",
      "6239\n",
      "6145\n",
      "6279\n",
      "6168\n",
      "6174\n",
      "6145\n",
      "6155\n",
      "6281\n",
      "6184\n",
      "6149\n",
      "6287\n",
      "6269\n",
      "6246\n",
      "6251\n",
      "6132\n",
      "6214\n",
      "6243\n",
      "6121\n",
      "6107\n",
      "6122\n"
     ]
    }
   ],
   "source": [
    "my_tri = triangle_to_list(triangle3)\n",
    "my_tri = my_tri[:-1]\n",
    "# my_tri[-1:]\n",
    "largest = [0,0]\n",
    "for i in range (1,30):\n",
    "    newestmax = find_max(1200,100)\n",
    "    print(newestmax[1])\n",
    "    if(newestmax[1]>largest[1]):\n",
    "        largest = newestmax\n",
    "        print(\"\")"
   ]
  },
  {
   "cell_type": "code",
   "execution_count": 302,
   "metadata": {
    "collapsed": false,
    "deletable": true,
    "editable": true
   },
   "outputs": [
    {
     "name": "stdout",
     "output_type": "stream",
     "text": [
      "[[0, 1, 0, 1, 1, 1, 0, 1, 1, 0, 1, 0, 1, 1, 1, 1, 1, 0, 0, 1, 1, 0, 0, 0, 0, 0, 1, 0, 1, 1, 0, 0, 1, 1, 1, 1, 1, 1, 1, 1, 1, 1, 0, 1, 0, 1, 1, 0, 1, 1, 0, 1, 1, 1, 1, 1, 1, 1, 1, 0, 1, 1, 0, 1, 1, 0, 0, 1, 0, 0, 1, 0, 1, 1, 1, 1, 0, 1, 1, 0, 1, 1, 0, 1, 1, 1, 1, 1, 0, 1, 1, 0, 1, 0, 1, 1, 0, 0, 1], 6296]\n"
     ]
    }
   ],
   "source": [
    "print(largest)"
   ]
  },
  {
   "cell_type": "code",
   "execution_count": null,
   "metadata": {
    "collapsed": true,
    "deletable": true,
    "editable": true
   },
   "outputs": [],
   "source": []
  }
 ],
 "metadata": {
  "kernelspec": {
   "display_name": "Python 2",
   "language": "python",
   "name": "python2"
  },
  "language_info": {
   "codemirror_mode": {
    "name": "ipython",
    "version": 2
   },
   "file_extension": ".py",
   "mimetype": "text/x-python",
   "name": "python",
   "nbconvert_exporter": "python",
   "pygments_lexer": "ipython2",
   "version": "2.7.12"
  }
 },
 "nbformat": 4,
 "nbformat_minor": 2
}
