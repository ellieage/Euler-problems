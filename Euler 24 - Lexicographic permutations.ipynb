{
 "cells": [
  {
   "cell_type": "markdown",
   "metadata": {},
   "source": [
    "## Lexicographic permutations\n",
    "**Problem 24 **\n",
    "\n",
    "A permutation is an ordered arrangement of objects. For example, 3124 is one possible permutation of the digits 1, 2, 3 and 4. If all of the permutations are listed numerically or alphabetically, we call it lexicographic order. The lexicographic permutations of 0, 1 and 2 are:\n",
    "\n",
    "012   021   102   120   201   210\n",
    "\n",
    "What is the millionth lexicographic permutation of the digits 0, 1, 2, 3, 4, 5, 6, 7, 8 and 9?\n",
    "\n"
   ]
  },
  {
   "cell_type": "markdown",
   "metadata": {},
   "source": [
    "Note: there are 10! = 3,628,800 total permutations of these 10 digits\n",
    "\n",
    "0123456***\n",
    "    There are 3! = 6 ways to finish this up, so 0123456789 would be the 1st spot, and 0123456987 would be the 6th spot.  We are looking for near the 1 millionth spot:\n",
    "\n",
    "0*********\n",
    "    There are 9! = 362,880 ways to finish this up, next is:\n",
    "\n",
    "\n",
    "\n",
    "1*********\n",
    "    There are also 9! ways for this, so the total is 9! + 9! = 725760.  Adding another 9! takes us over 1 million, the number must start with a 2.\n",
    "\n",
    "20********\n",
    "    There are 8! = 40320 ways to finish this up.  So the number 2013456789 would be the 725761th spot and 2098765431 would be the 725761+40,320 = 766081th spot.  21******* is another 40,320 (806401 total), 23******* another (846721 total), 24**(887041) 25**(927361) 26**(967681) 27**(over 1 mill).  So the number must start with a 27.\n",
    "    \n",
    "etc., algorithm next:"
   ]
  },
  {
   "cell_type": "markdown",
   "metadata": {},
   "source": [
    "1,000,000/(9!) = 2.75 --> 1st position starts with the 3rd position of the numbers (0,1,2,3,4,5,6,7,8,9) \n",
    "\n",
    "**Our number starts with a 2**\n",
    "\n",
    "1,000,000-(2*9!) = 274,240\n",
    "274,240/(8!) = 6.8  --> 2nd position starts with the 7th position of the remaining numbers (0,1,3,4,5,6,7,8,9) \n",
    "\n",
    "**Our number starts with a 27**\n",
    "\n",
    "274,240-(6*8!) = 32,320\n",
    "32,320/(7!) = 6.4  --> 3rd position starts with the 7th position of the remaining numbers (0,1,3,4,5,6,8,9) \n",
    "\n",
    "**Our number starts with a 278**\n",
    "\n",
    "32,320 - (6*7!) = 2,080\n",
    "2,080/(6!) = 2.9 --> 4th position starts with the 3rd position of the remaining numbers (0,1,3,4,5,6,9) \n",
    "\n",
    "**Our number starts with a 2783**\n",
    "\n",
    "2,080 - (2*6!) = 640\n",
    "640/(5!) =  5.3 --> 5th position starts with the 6th position of the remaining numbers (0,1,4,5,6,9) \n",
    "\n",
    "**Our number starts with a 27839**\n",
    "\n",
    "640 - (5*5!) = 40\n",
    "40/(4!) =  1.6 --> 6th position starts with the 2nd position of the remaining numbers (0,1,4,5,6) \n",
    "\n",
    "**Our number starts with a 278391**\n",
    "\n",
    "40 - (1*4!) = 16\n",
    "16/(3!) =  2.6 --> 7th position starts with the 3rd position of the remaining numbers (0,4,5,6) \n",
    "\n",
    "**Our number starts with a 2783915**\n",
    "\n",
    "16 - (2*3!) = 4\n",
    "4/(2!) =  2 --> 8th position starts with the 2nd position of the remaining numbers, rest are in backwards order (0,4,6) \n",
    "\n",
    "**Our number is 2783915460**\n"
   ]
  },
  {
   "cell_type": "code",
   "execution_count": 32,
   "metadata": {
    "collapsed": false
   },
   "outputs": [
    {
     "name": "stdout",
     "output_type": "stream",
     "text": [
      "2783915460\n"
     ]
    }
   ],
   "source": [
    "import math\n",
    "\n",
    "our_num = 0\n",
    "digits = list(range(0,10))\n",
    "\n",
    "bignum = 1000000\n",
    "\n",
    "for k in range (9,0,-1):\n",
    "    spot = math.ceil(bignum/float((math.factorial(k))))-1\n",
    "    our_num += digits[int(spot)]*10**k\n",
    "    bignum = bignum - (spot*math.factorial(k))\n",
    "    del digits[int(spot)]\n",
    "print(our_num)"
   ]
  },
  {
   "cell_type": "code",
   "execution_count": null,
   "metadata": {
    "collapsed": true
   },
   "outputs": [],
   "source": []
  }
 ],
 "metadata": {
  "kernelspec": {
   "display_name": "Python 2",
   "language": "python",
   "name": "python2"
  },
  "language_info": {
   "codemirror_mode": {
    "name": "ipython",
    "version": 2
   },
   "file_extension": ".py",
   "mimetype": "text/x-python",
   "name": "python",
   "nbconvert_exporter": "python",
   "pygments_lexer": "ipython2",
   "version": "2.7.12"
  }
 },
 "nbformat": 4,
 "nbformat_minor": 2
}
