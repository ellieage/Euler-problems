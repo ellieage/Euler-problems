{
 "cells": [
  {
   "cell_type": "markdown",
   "metadata": {},
   "source": [
    "## Pairwise Coin-Tossing Game\n",
    "**Problem 605 **\n",
    "\n",
    "\n",
    "Consider an $n$-player game played in consecutive pairs: Round 1 takes place between players 1 and 2, round 2 takes place between players 2 and 3, and so on and so forth, all the way up to round $n$, which takes place between players $n$ and 1. Then round $n+1$ takes place between players 1 and 2 as the entire cycle starts again.\n",
    "\n",
    "In other words, during round $r$, player $((r−1) \\textrm{ mod } n)+1$ faces off against player $(r \\textrm{ mod } n)+1$.\n",
    "\n",
    "During each round, a fair coin is tossed to decide which of the two players wins that round. If any given player wins both rounds $r$ and $r+1$, then that player wins the entire game.\n",
    "\n",
    "Let $P_n(k)$ be the probability that player $k$ wins in an $n$-player game, in the form of a reduced fraction. For example, $P_3(1)$=$12/49$ and $P_6(2)=368/1323$.\n",
    "\n",
    "Let $M_n(k)$ be the product of the reduced numerator and denominator of $P_n(k)$. For example, $M_3(1)=588$ and $M_6(2)=486864$.\n",
    "\n",
    "Find the last 88 digits of M108+7(104+7)M108+7(104+7)."
   ]
  },
  {
   "cell_type": "code",
   "execution_count": null,
   "metadata": {
    "collapsed": true
   },
   "outputs": [],
   "source": [
    "# P_n(k)\n",
    "\n"
   ]
  },
  {
   "cell_type": "code",
   "execution_count": null,
   "metadata": {
    "collapsed": true
   },
   "outputs": [],
   "source": []
  },
  {
   "cell_type": "code",
   "execution_count": null,
   "metadata": {
    "collapsed": true
   },
   "outputs": [],
   "source": []
  },
  {
   "cell_type": "code",
   "execution_count": null,
   "metadata": {
    "collapsed": true
   },
   "outputs": [],
   "source": []
  }
 ],
 "metadata": {
  "kernelspec": {
   "display_name": "Python 2",
   "language": "python",
   "name": "python2"
  },
  "language_info": {
   "codemirror_mode": {
    "name": "ipython",
    "version": 2
   },
   "file_extension": ".py",
   "mimetype": "text/x-python",
   "name": "python",
   "nbconvert_exporter": "python",
   "pygments_lexer": "ipython2",
   "version": "2.7.12"
  }
 },
 "nbformat": 4,
 "nbformat_minor": 2
}
