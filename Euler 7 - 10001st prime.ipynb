{
 "cells": [
  {
   "cell_type": "markdown",
   "metadata": {},
   "source": [
    "## 10001st prime\n",
    "\n",
    "**Problem 7 **\n",
    "\n",
    "By listing the first six prime numbers: 2, 3, 5, 7, 11, and 13, we can see that the 6th prime is 13.\n",
    "\n",
    "What is the 10 001st prime number?\n"
   ]
  },
  {
   "cell_type": "code",
   "execution_count": 21,
   "metadata": {
    "collapsed": true
   },
   "outputs": [],
   "source": [
    "def is_prime(p):\n",
    "    for i in range(2,int(p/2)+1):\n",
    "\n",
    "        if (p%i==0):\n",
    "            return False\n",
    "            break\n",
    "        \n",
    "    return True    "
   ]
  },
  {
   "cell_type": "code",
   "execution_count": 36,
   "metadata": {
    "collapsed": true
   },
   "outputs": [],
   "source": [
    "def old_nth_prime(n):\n",
    "    k=1\n",
    "    p=2\n",
    "    while k!=n:\n",
    "#         print(\"\\n p = \" + str(p))\n",
    "#         print(\"k = \" + str(k))\n",
    "        p+=1\n",
    "        if (is_prime(p)):\n",
    "            k+=1\n",
    "            if(k==n):\n",
    "                return(p)\n",
    "        "
   ]
  },
  {
   "cell_type": "code",
   "execution_count": 37,
   "metadata": {
    "collapsed": true
   },
   "outputs": [],
   "source": [
    "def nth_prime(n):\n",
    "    k=2\n",
    "    p=3\n",
    "    while k!=n:\n",
    "#         print(\"\\n p = \" + str(p))\n",
    "#         print(\"k = \" + str(k))\n",
    "        p+=2\n",
    "        if (is_prime(p)):\n",
    "            k+=1\n",
    "            if(k==n):\n",
    "                return(p)\n",
    "        "
   ]
  },
  {
   "cell_type": "code",
   "execution_count": 63,
   "metadata": {
    "collapsed": false
   },
   "outputs": [
    {
     "name": "stdout",
     "output_type": "stream",
     "text": [
      "7927\n",
      "7927\n"
     ]
    }
   ],
   "source": [
    "print(nth_prime(1001))\n",
    "print(old_nth_prime(1001))"
   ]
  },
  {
   "cell_type": "code",
   "execution_count": 64,
   "metadata": {
    "collapsed": false
   },
   "outputs": [
    {
     "name": "stdout",
     "output_type": "stream",
     "text": [
      "104743\n"
     ]
    }
   ],
   "source": [
    "primes = [2]\n",
    "n=10001\n",
    "p=primes[-1]\n",
    "while len(primes)<n:\n",
    "    p+=1\n",
    "#     print(\"\\n p = \" + str(p))\n",
    "    flag=0\n",
    "    for prime in primes:\n",
    "#         print(\"prime = \" + str(prime))\n",
    "        if(p%prime==0):\n",
    "            flag = 1\n",
    "#             print(p, prime)\n",
    "#             print(str(p) +  \" is not prime\")\n",
    "            \n",
    "            break\n",
    "        else:\n",
    "#             print(\"else\")\n",
    "            flag=0\n",
    "            continue\n",
    "    if (flag==0):\n",
    "        primes.append(p)\n",
    "#         print(primes)\n",
    "       \n",
    "print(primes[-1])    \n",
    "    \n"
   ]
  },
  {
   "cell_type": "code",
   "execution_count": null,
   "metadata": {
    "collapsed": true
   },
   "outputs": [],
   "source": []
  },
  {
   "cell_type": "code",
   "execution_count": null,
   "metadata": {
    "collapsed": true
   },
   "outputs": [],
   "source": []
  },
  {
   "cell_type": "code",
   "execution_count": 16,
   "metadata": {
    "collapsed": false
   },
   "outputs": [],
   "source": [
    "def nth_prime(n):\n",
    "    k=1\n",
    "    p=2\n",
    "    while p<10:\n",
    "        print(\"\\n p = \" + str(p))\n",
    "        print(\"k = \" + str(k))\n",
    "        for i in range(2,int(p/2)+1):\n",
    "            print(\"i = \" + str(i))\n",
    "            if (p%i==0):\n",
    "                p+=1\n",
    "                break\n",
    "            else:\n",
    "                continue\n",
    "        p+=1\n",
    "        k+=1\n",
    "    return(p,k)     "
   ]
  },
  {
   "cell_type": "code",
   "execution_count": 17,
   "metadata": {
    "collapsed": false
   },
   "outputs": [
    {
     "name": "stdout",
     "output_type": "stream",
     "text": [
      "\n",
      " p = 2\n",
      "k = 1\n",
      "\n",
      " p = 3\n",
      "k = 2\n",
      "\n",
      " p = 4\n",
      "k = 3\n",
      "i = 2\n",
      "\n",
      " p = 6\n",
      "k = 4\n",
      "i = 2\n",
      "\n",
      " p = 8\n",
      "k = 5\n",
      "i = 2\n"
     ]
    },
    {
     "data": {
      "text/plain": [
       "(10, 6)"
      ]
     },
     "execution_count": 17,
     "metadata": {},
     "output_type": "execute_result"
    }
   ],
   "source": [
    "nth_prime(6)"
   ]
  },
  {
   "cell_type": "code",
   "execution_count": null,
   "metadata": {
    "collapsed": true
   },
   "outputs": [],
   "source": []
  }
 ],
 "metadata": {
  "kernelspec": {
   "display_name": "Python 2",
   "language": "python",
   "name": "python2"
  },
  "language_info": {
   "codemirror_mode": {
    "name": "ipython",
    "version": 2
   },
   "file_extension": ".py",
   "mimetype": "text/x-python",
   "name": "python",
   "nbconvert_exporter": "python",
   "pygments_lexer": "ipython2",
   "version": "2.7.12"
  }
 },
 "nbformat": 4,
 "nbformat_minor": 2
}
