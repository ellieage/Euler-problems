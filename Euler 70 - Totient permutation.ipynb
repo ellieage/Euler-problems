{
 "cells": [
  {
   "cell_type": "markdown",
   "metadata": {
    "deletable": true,
    "editable": true
   },
   "source": [
    "## Totient permutation\n",
    "**Problem 70**\n",
    "\n",
    "Euler's Totient function, φ(n) [sometimes called the phi function], is used to determine the number of positive numbers less than or equal to n which are relatively prime to n. For example, as 1, 2, 4, 5, 7, and 8, are all less than nine and relatively prime to nine, φ(9)=6.\n",
    "The number 1 is considered to be relatively prime to every positive number, so φ(1)=1.\n",
    "\n",
    "Interestingly, φ(87109)=79180, and it can be seen that 87109 is a permutation of 79180.\n",
    "\n",
    "Find the value of n, 1 < n < $10^7$, for which φ(n) is a permutation of n and the ratio n/φ(n) produces a minimum."
   ]
  },
  {
   "cell_type": "code",
   "execution_count": 18,
   "metadata": {
    "collapsed": true,
    "deletable": true,
    "editable": true
   },
   "outputs": [],
   "source": [
    "import time\n"
   ]
  },
  {
   "cell_type": "raw",
   "metadata": {
    "collapsed": true,
    "deletable": true,
    "editable": true
   },
   "source": [
    "def pfs(n):\n",
    "    i = 2\n",
    "    pf = []\n",
    "    while i <= n:\n",
    "        if n % i:\n",
    "            i += 1\n",
    "        else:\n",
    "#             print(i,n)\n",
    "            pf.append(i)\n",
    "            n /= i\n",
    "        \n",
    "    return pf"
   ]
  },
  {
   "cell_type": "code",
   "execution_count": 1,
   "metadata": {
    "collapsed": false,
    "deletable": true,
    "editable": true
   },
   "outputs": [],
   "source": [
    "def pfs2(n):\n",
    "    i = 2\n",
    "    pf = []\n",
    "    while i*i <= n:\n",
    "#         print(n,i, n%i)\n",
    "        if n % i:\n",
    "            i += 1\n",
    "#             print(\"i+=1 : \" + str(i))\n",
    "        else:\n",
    "#             print(\"else\")\n",
    "#             print(n,i)\n",
    "            pf.append(i)\n",
    "#             print(pf)\n",
    "            n /= i\n",
    "#             print(\"now\" + str((n,i)))\n",
    "    pf.append(n)\n",
    "    return pf"
   ]
  },
  {
   "cell_type": "code",
   "execution_count": 2,
   "metadata": {
    "collapsed": false
   },
   "outputs": [
    {
     "data": {
      "text/plain": [
       "[2, 2, 7]"
      ]
     },
     "execution_count": 2,
     "metadata": {},
     "output_type": "execute_result"
    }
   ],
   "source": [
    "pfs2(28)"
   ]
  },
  {
   "cell_type": "code",
   "execution_count": 94,
   "metadata": {
    "collapsed": false,
    "deletable": true,
    "editable": true
   },
   "outputs": [],
   "source": [
    "# for k in range(2,103):\n",
    "#     print(\"k = \" + str(k) + \"  \" + str(sorted(pfs(k))==sorted(pfs2(k))))\n",
    "#     print(k,pfs(k),pfs2(k))"
   ]
  },
  {
   "cell_type": "code",
   "execution_count": null,
   "metadata": {
    "collapsed": true,
    "deletable": true,
    "editable": true
   },
   "outputs": [],
   "source": []
  },
  {
   "cell_type": "code",
   "execution_count": 97,
   "metadata": {
    "collapsed": false,
    "deletable": true,
    "editable": true
   },
   "outputs": [],
   "source": [
    "from collections import Counter\n",
    "\n",
    "starttime = time.time()\n",
    "\n",
    "def totient(n):\n",
    "    if (n == 1):\n",
    "        return 1\n",
    "#     print(\" \\n n = \" + str(n))\n",
    "    pf=pfs2(n)\n",
    "#     oldtime = starttime\n",
    "#     newtime = time.time()\n",
    "#     print (newtime-oldtime)\n",
    "\n",
    "    if (len(pf)==1):\n",
    "#         oldtime = newtime\n",
    "#         newtime = time.time()\n",
    "#         print (newtime-oldtime)\n",
    "        \n",
    "        return(n-1)\n",
    "    else:\n",
    "        d = Counter(pf)\n",
    "#         print(d)\n",
    "        value = 1\n",
    "        for k in d:\n",
    "#             print(k,d[k])\n",
    "            value *= (k**(d[k])-k**(d[k]-1))\n",
    "\n",
    "#         oldtime = newtime\n",
    "#         newtime = time.time()\n",
    "#         print (newtime-oldtime)\n",
    "        \n",
    "        return(value)  "
   ]
  },
  {
   "cell_type": "code",
   "execution_count": 98,
   "metadata": {
    "collapsed": false,
    "deletable": true,
    "editable": true
   },
   "outputs": [
    {
     "name": "stdout",
     "output_type": "stream",
     "text": [
      "(1, 1)\n",
      "(2, 1)\n",
      "(3, 2)\n",
      "(4, 2)\n",
      "(5, 4)\n",
      "(6, 2)\n",
      "(7, 6)\n",
      "(8, 4)\n",
      "(9, 6)\n",
      "(10, 4)\n",
      "(11, 10)\n",
      "(12, 4)\n",
      "(13, 12)\n",
      "(14, 6)\n",
      "(15, 8)\n",
      "(16, 8)\n",
      "(17, 16)\n",
      "(18, 6)\n",
      "(19, 18)\n"
     ]
    }
   ],
   "source": [
    "for n in range(1,20):\n",
    "    print(n,totient(n))"
   ]
  },
  {
   "cell_type": "code",
   "execution_count": 5,
   "metadata": {
    "collapsed": false,
    "deletable": true,
    "editable": true
   },
   "outputs": [],
   "source": [
    "def is_perm(n,m):\n",
    "    list1=list(str(n))\n",
    "    list2=list(str(m))\n",
    "    return(sorted(list1)==sorted(list2))"
   ]
  },
  {
   "cell_type": "code",
   "execution_count": 6,
   "metadata": {
    "collapsed": false,
    "deletable": true,
    "editable": true
   },
   "outputs": [
    {
     "data": {
      "text/plain": [
       "False"
      ]
     },
     "execution_count": 6,
     "metadata": {},
     "output_type": "execute_result"
    }
   ],
   "source": [
    "is_perm(335,553)"
   ]
  },
  {
   "cell_type": "code",
   "execution_count": 107,
   "metadata": {
    "collapsed": false,
    "deletable": true,
    "editable": true
   },
   "outputs": [
    {
     "name": "stdout",
     "output_type": "stream",
     "text": [
      "(291, 1.515625)\n",
      "(2817, 1.5048076923076923)\n",
      "(2991, 1.5015060240963856)\n",
      "(4435, 1.2514108352144468)\n",
      "(20617, 1.0218576526566217)\n",
      "(45421, 1.0204214593817398)\n",
      "(69271, 1.020011190952998)\n",
      "(75841, 1.0087385613960418)\n",
      "(162619, 1.008202311278643)\n",
      "(176569, 1.0049688097623168)\n",
      "(284029, 1.0038488725524846)\n",
      "(400399, 1.00340567361668)\n"
     ]
    },
    {
     "ename": "KeyboardInterrupt",
     "evalue": "",
     "output_type": "error",
     "traceback": [
      "\u001b[0;31m----------------------------------------------------------------------\u001b[0m",
      "\u001b[0;31mKeyboardInterrupt\u001b[0m                    Traceback (most recent call last)",
      "\u001b[0;32m<ipython-input-107-3ab678d5c73a>\u001b[0m in \u001b[0;36m<module>\u001b[0;34m()\u001b[0m\n\u001b[1;32m      4\u001b[0m \u001b[0;32mfor\u001b[0m \u001b[0mn\u001b[0m \u001b[0;32min\u001b[0m \u001b[0mrange\u001b[0m \u001b[0;34m(\u001b[0m\u001b[0;36m2\u001b[0m\u001b[0;34m,\u001b[0m\u001b[0;36m10\u001b[0m\u001b[0;34m**\u001b[0m\u001b[0;36m7\u001b[0m\u001b[0;34m)\u001b[0m\u001b[0;34m:\u001b[0m\u001b[0;34m\u001b[0m\u001b[0m\n\u001b[1;32m      5\u001b[0m \u001b[0;34m\u001b[0m\u001b[0m\n\u001b[0;32m----> 6\u001b[0;31m     \u001b[0mtot\u001b[0m\u001b[0;34m=\u001b[0m\u001b[0mtotient\u001b[0m\u001b[0;34m(\u001b[0m\u001b[0mn\u001b[0m\u001b[0;34m)\u001b[0m\u001b[0;34m\u001b[0m\u001b[0m\n\u001b[0m\u001b[1;32m      7\u001b[0m     \u001b[0mstate\u001b[0m \u001b[0;34m=\u001b[0m \u001b[0mis_perm\u001b[0m\u001b[0;34m(\u001b[0m\u001b[0mn\u001b[0m\u001b[0;34m,\u001b[0m\u001b[0mtot\u001b[0m\u001b[0;34m)\u001b[0m\u001b[0;34m\u001b[0m\u001b[0m\n\u001b[1;32m      8\u001b[0m     \u001b[0;32mif\u001b[0m \u001b[0;34m(\u001b[0m\u001b[0mstate\u001b[0m\u001b[0;34m)\u001b[0m\u001b[0;34m:\u001b[0m\u001b[0;34m\u001b[0m\u001b[0m\n",
      "\u001b[0;32m<ipython-input-97-2cfd5fe85f83>\u001b[0m in \u001b[0;36mtotient\u001b[0;34m(n)\u001b[0m\n\u001b[1;32m      7\u001b[0m         \u001b[0;32mreturn\u001b[0m \u001b[0;36m1\u001b[0m\u001b[0;34m\u001b[0m\u001b[0m\n\u001b[1;32m      8\u001b[0m \u001b[0;31m#     print(\" \\n n = \" + str(n))\u001b[0m\u001b[0;34m\u001b[0m\u001b[0;34m\u001b[0m\u001b[0m\n\u001b[0;32m----> 9\u001b[0;31m     \u001b[0mpf\u001b[0m\u001b[0;34m=\u001b[0m\u001b[0mpfs2\u001b[0m\u001b[0;34m(\u001b[0m\u001b[0mn\u001b[0m\u001b[0;34m)\u001b[0m\u001b[0;34m\u001b[0m\u001b[0m\n\u001b[0m\u001b[1;32m     10\u001b[0m \u001b[0;31m#     oldtime = starttime\u001b[0m\u001b[0;34m\u001b[0m\u001b[0;34m\u001b[0m\u001b[0m\n\u001b[1;32m     11\u001b[0m \u001b[0;31m#     newtime = time.time()\u001b[0m\u001b[0;34m\u001b[0m\u001b[0;34m\u001b[0m\u001b[0m\n",
      "\u001b[0;32m<ipython-input-89-af39959ba42b>\u001b[0m in \u001b[0;36mpfs2\u001b[0;34m(n)\u001b[0m\n\u001b[1;32m      4\u001b[0m     \u001b[0;32mwhile\u001b[0m \u001b[0mi\u001b[0m\u001b[0;34m*\u001b[0m\u001b[0mi\u001b[0m \u001b[0;34m<=\u001b[0m \u001b[0mn\u001b[0m\u001b[0;34m:\u001b[0m\u001b[0;34m\u001b[0m\u001b[0m\n\u001b[1;32m      5\u001b[0m \u001b[0;31m#         print(n,i, n%i)\u001b[0m\u001b[0;34m\u001b[0m\u001b[0;34m\u001b[0m\u001b[0m\n\u001b[0;32m----> 6\u001b[0;31m         \u001b[0;32mif\u001b[0m \u001b[0mn\u001b[0m \u001b[0;34m%\u001b[0m \u001b[0mi\u001b[0m\u001b[0;34m:\u001b[0m\u001b[0;34m\u001b[0m\u001b[0m\n\u001b[0m\u001b[1;32m      7\u001b[0m             \u001b[0mi\u001b[0m \u001b[0;34m+=\u001b[0m \u001b[0;36m1\u001b[0m\u001b[0;34m\u001b[0m\u001b[0m\n\u001b[1;32m      8\u001b[0m \u001b[0;31m#             print(\"i+=1 : \" + str(i))\u001b[0m\u001b[0;34m\u001b[0m\u001b[0;34m\u001b[0m\u001b[0m\n",
      "\u001b[0;31mKeyboardInterrupt\u001b[0m: "
     ]
    }
   ],
   "source": [
    "our_n = 1\n",
    "smallest = 1.75\n",
    "\n",
    "for n in range (2,10**7):\n",
    "    \n",
    "    tot=totient(n)\n",
    "    state = is_perm(n,tot)\n",
    "    if (state):\n",
    "        if ((n/float(tot))<smallest):\n",
    "            smallest = n/float(tot)\n",
    "            our_n = n\n",
    "            print(our_n,smallest)\n",
    "print(\"the end:\")\n",
    "print(our_n,smallest)\n"
   ]
  },
  {
   "cell_type": "code",
   "execution_count": 100,
   "metadata": {
    "collapsed": false,
    "deletable": true,
    "editable": true
   },
   "outputs": [
    {
     "name": "stdout",
     "output_type": "stream",
     "text": [
      "(783169, 1.0022690159662961)\n"
     ]
    }
   ],
   "source": [
    "print(our_n,smallest)"
   ]
  },
  {
   "cell_type": "code",
   "execution_count": null,
   "metadata": {
    "collapsed": true,
    "deletable": true,
    "editable": true
   },
   "outputs": [],
   "source": []
  },
  {
   "cell_type": "code",
   "execution_count": null,
   "metadata": {
    "collapsed": true,
    "deletable": true,
    "editable": true
   },
   "outputs": [],
   "source": []
  },
  {
   "cell_type": "code",
   "execution_count": null,
   "metadata": {
    "collapsed": true,
    "deletable": true,
    "editable": true
   },
   "outputs": [],
   "source": []
  },
  {
   "cell_type": "code",
   "execution_count": null,
   "metadata": {
    "collapsed": true,
    "deletable": true,
    "editable": true
   },
   "outputs": [],
   "source": []
  },
  {
   "cell_type": "code",
   "execution_count": null,
   "metadata": {
    "collapsed": true,
    "deletable": true,
    "editable": true
   },
   "outputs": [],
   "source": []
  },
  {
   "cell_type": "raw",
   "metadata": {
    "deletable": true,
    "editable": true
   },
   "source": [
    "## stores it all in  a dictionary, too large\n",
    "\n",
    "tots = {1:1}\n",
    "for k in range(2,10**5):\n",
    "    pf=pfs(k)\n",
    "    if (len(pf)==1):\n",
    "#         print(str(k)+\" is prime , \" + str(k-1))\n",
    "        tots[k]=k-1\n",
    "    else:\n",
    "        new_l=[]\n",
    "        set_pf = set(pf)\n",
    "        for i in set_pf:\n",
    "            new_l.append(i**(pf.count(i)))\n",
    "        if (len(new_l)==1):\n",
    "            p=pf[0]\n",
    "            r=len(pf)\n",
    "            value=p**r-p**(r-1)\n",
    "            tots[k]=value\n",
    "\n",
    "#             print(str(k), tots[k])\n",
    "        else:\n",
    "            value = tots[new_l[0]]\n",
    "            for j in range(1,len(new_l)):\n",
    "                value*= tots[new_l[j]]\n",
    "            tots[k]=value\n",
    "#             print(str(k), value)\n",
    "#     print(k,tots[k])        \n",
    "# print(tots)"
   ]
  },
  {
   "cell_type": "code",
   "execution_count": null,
   "metadata": {
    "collapsed": true,
    "deletable": true,
    "editable": true
   },
   "outputs": [],
   "source": []
  },
  {
   "cell_type": "code",
   "execution_count": null,
   "metadata": {
    "collapsed": true,
    "deletable": true,
    "editable": true
   },
   "outputs": [],
   "source": []
  },
  {
   "cell_type": "code",
   "execution_count": null,
   "metadata": {
    "collapsed": true,
    "deletable": true,
    "editable": true
   },
   "outputs": [],
   "source": []
  },
  {
   "cell_type": "code",
   "execution_count": null,
   "metadata": {
    "collapsed": true,
    "deletable": true,
    "editable": true
   },
   "outputs": [],
   "source": []
  }
 ],
 "metadata": {
  "kernelspec": {
   "display_name": "Python 2",
   "language": "python",
   "name": "python2"
  },
  "language_info": {
   "codemirror_mode": {
    "name": "ipython",
    "version": 2
   },
   "file_extension": ".py",
   "mimetype": "text/x-python",
   "name": "python",
   "nbconvert_exporter": "python",
   "pygments_lexer": "ipython2",
   "version": "2.7.12"
  }
 },
 "nbformat": 4,
 "nbformat_minor": 2
}
